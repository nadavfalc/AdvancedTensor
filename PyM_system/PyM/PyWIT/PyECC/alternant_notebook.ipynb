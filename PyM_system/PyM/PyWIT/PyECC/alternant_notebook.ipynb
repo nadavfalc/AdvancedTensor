{
 "cells": [
  {
   "cell_type": "code",
   "execution_count": 1,
   "metadata": {},
   "outputs": [],
   "source": [
    "import numpy as np\n",
    "from PyM import *"
   ]
  },
  {
   "cell_type": "code",
   "execution_count": 93,
   "metadata": {},
   "outputs": [],
   "source": [
    "def AD_checker1(C,t,K=''):\n",
    "    if K=='': K = K_(C)\n",
    "    H = prune(blow(H_(C),K))\n",
    "    if G_(C)!= None:\n",
    "        G = G_(C)\n",
    "    else: \n",
    "        G = left_kernel(transpose(H))\n",
    "    n = ncols(H)\n",
    "    x = rd_linear_combination(G,K)\n",
    "    e = rd_error_pattern(n,t,K)\n",
    "\n",
    "    x1 = alternant_decoder(x+e,C)\n",
    "    if isinstance(x1,Vector_type):\n",
    "        if x1==x:\n",
    "            show('AD_checker: trial successful')\n",
    "            return True, matrix([x,e,x+e])\n",
    "        else:\n",
    "            show('AD_checker: undectetable error')\n",
    "            return False, matrix(x,e,x+e,x1)\n",
    "    else:\n",
    "        show('AD_checker: decoder error')\n",
    "        return False, matrix([x,e])"
   ]
  },
  {
   "cell_type": "code",
   "execution_count": 79,
   "metadata": {},
   "outputs": [],
   "source": [
    "n = 16\n",
    "r = 8\n",
    "\n",
    "F_base = Zn(2)\n",
    "\n",
    "F_poly = get_irreducible_polynomial(F_base, 4)\n",
    "[F,b]= extension (F_base, F_poly, 'a')\n",
    "\n",
    "Phi_poly = get_irreducible_polynomial(F, 2)\n",
    "[Phi,b]= extension (F, Phi_poly, 'a')\n"
   ]
  },
  {
   "cell_type": "code",
   "execution_count": 80,
   "metadata": {},
   "outputs": [
    {
     "name": "stdout",
     "output_type": "stream",
     "text": [
      "Z2[a]\n",
      "Z2[a][a]\n",
      "a\n"
     ]
    }
   ],
   "source": [
    "print(F)\n",
    "print(Phi)\n",
    "print(b)"
   ]
  },
  {
   "cell_type": "code",
   "execution_count": 138,
   "metadata": {},
   "outputs": [
    {
     "data": {
      "text/plain": [
       "(\n",
       " [[1\ta\t1 + a\ta**2\t1 + a**2\ta + a**2\t1 + a + a**2\ta**3\t1 + a**3\ta + a**3\t1 + a + a**3\ta**2 + a**3\t1 + a**2 + a**3\ta + a**2 + a**3\t1 + a + a**2 + a**3\ta]\n",
       "  [1\ta**2\t1 + a**2\t1 + a**3\ta**3\t1 + a**2 + a**3\ta**2 + a**3\t1 + a + a**2 + a**3\ta + a**2 + a**3\t1 + a + a**3\ta + a**3\ta + a**2\t1 + a + a**2\ta\t1 + a\t1 + a**3 + (a + a**2 + a**3)*a]\n",
       "  [1\ta**3\t1 + a + a**2 + a**3\t1 + a + a**2 + a**3\t1 + a\t1 + a**2\t1 + a + a**2 + a**3\t1 + a**2\t1 + a\t1\t1\t1 + a\ta**3\t1 + a**2\ta**3\t1 + a + (1 + a + a**3)*a]\n",
       "  [1\t1 + a**3\ta**3\ta + a**2 + a**3\t1 + a + a**2 + a**3\t1 + a + a**2\ta + a**2\t1 + a\ta\ta + a**3\t1 + a + a**3\t1 + a**2 + a**3\ta**2 + a**3\ta**2\t1 + a**2\t1 + a**2 + (1 + a**2)*a]\n",
       "  [1\t1 + a + a**3\t1\ta + a**3\t1\t1 + a + a**3\t1 + a + a**3\t1\t1 + a + a**3\t1 + a + a**3\ta + a**3\ta + a**3\ta + a**3\ta + a**3\t1\ta + a**2 + a]\n",
       "  [1\t1 + a + a**2 + a**3\t1 + a\t1 + a\t1 + a**2\ta**3\t1 + a\ta**3\t1 + a**2\t1\t1\t1 + a**2\t1 + a + a**2 + a**3\ta**3\t1 + a + a**2 + a**3\t1 + a**3 + a**3*a]\n",
       "  [1\t1 + a + a**2\t1 + a**2\ta**2 + a**3\ta**3\ta\t1 + a**3\t1 + a + a**2 + a**3\ta + a**2\ta + a**3\t1 + a + a**3\ta + a**2 + a**3\ta**2\t1 + a**2 + a**3\t1 + a\t1 + a + a**2 + a**2*a]\n",
       "  [1\ta + a**2 + a**3\t1 + a + a**2 + a**3\ta\t1 + a\ta**2 + a**3\t1 + a**2 + a**3\t1 + a**2\ta**2\t1 + a + a**3\ta + a**3\t1 + a + a**2\ta + a**2\t1 + a**3\ta**3\t1 + a + a**2 + a**3 + (1 + a**2 + a**3)*a]],\n",
       " \n",
       " [[1\ta\t1 + a\ta**2\t1 + a**2\ta + a**2\t1 + a + a**2\ta**3\t1 + a**3\ta + a**3\t1 + a + a**3\ta**2 + a**3\t1 + a**2 + a**3\ta + a**2 + a**3\t1 + a + a**2 + a**3\ta]\n",
       "  [1\ta**2\t1 + a**2\t1 + a**3\ta**3\t1 + a**2 + a**3\ta**2 + a**3\t1 + a + a**2 + a**3\ta + a**2 + a**3\t1 + a + a**3\ta + a**3\ta + a**2\t1 + a + a**2\ta\t1 + a\t1 + a**3 + (a + a**2 + a**3)*a]\n",
       "  [1\ta**3\t1 + a + a**2 + a**3\t1 + a + a**2 + a**3\t1 + a\t1 + a**2\t1 + a + a**2 + a**3\t1 + a**2\t1 + a\t1\t1\t1 + a\ta**3\t1 + a**2\ta**3\t1 + a + (1 + a + a**3)*a]\n",
       "  [1\t1 + a**3\ta**3\ta + a**2 + a**3\t1 + a + a**2 + a**3\t1 + a + a**2\ta + a**2\t1 + a\ta\ta + a**3\t1 + a + a**3\t1 + a**2 + a**3\ta**2 + a**3\ta**2\t1 + a**2\t1 + a**2 + (1 + a**2)*a]\n",
       "  [1\t1 + a + a**3\t1\ta + a**3\t1\t1 + a + a**3\t1 + a + a**3\t1\t1 + a + a**3\t1 + a + a**3\ta + a**3\ta + a**3\ta + a**3\ta + a**3\t1\ta + a**2 + a]\n",
       "  [1\t1 + a + a**2 + a**3\t1 + a\t1 + a\t1 + a**2\ta**3\t1 + a\ta**3\t1 + a**2\t1\t1\t1 + a**2\t1 + a + a**2 + a**3\ta**3\t1 + a + a**2 + a**3\t1 + a**3 + a**3*a]\n",
       "  [1\t1 + a + a**2\t1 + a**2\ta**2 + a**3\ta**3\ta\t1 + a**3\t1 + a + a**2 + a**3\ta + a**2\ta + a**3\t1 + a + a**3\ta + a**2 + a**3\ta**2\t1 + a**2 + a**3\t1 + a\t1 + a + a**2 + a**2*a]\n",
       "  [1\ta + a**2 + a**3\t1 + a + a**2 + a**3\ta\t1 + a\ta**2 + a**3\t1 + a**2 + a**3\t1 + a**2\ta**2\t1 + a + a**3\ta + a**3\t1 + a + a**2\ta + a**2\t1 + a**3\ta**3\t1 + a + a**2 + a**3 + (1 + a**2 + a**3)*a]])"
      ]
     },
     "execution_count": 138,
     "metadata": {},
     "output_type": "execute_result"
    }
   ],
   "source": [
    "a = [element(i,Phi) for i in range(1, n + 1)]\n",
    "h = a\n",
    "C = alternant_code(h, a, r, F)\n",
    "C2 = alternant_code(h, a, r, Phi)\n",
    "H_(C2), H_(C)"
   ]
  },
  {
   "cell_type": "code",
   "execution_count": 135,
   "metadata": {},
   "outputs": [
    {
     "data": {
      "text/plain": [
       "(\n",
       " [[1\ta\t1 + a\ta**2\t1 + a**2\ta + a**2\t1 + a + a**2\ta**3\t1 + a**3\ta + a**3\t1 + a + a**3\ta**2 + a**3\t1 + a**2 + a**3\ta + a**2 + a**3\t1 + a + a**2 + a**3\ta]\n",
       "  [1\ta**2\t1 + a**2\t1 + a**3\ta**3\t1 + a**2 + a**3\ta**2 + a**3\t1 + a + a**2 + a**3\ta + a**2 + a**3\t1 + a + a**3\ta + a**3\ta + a**2\t1 + a + a**2\ta\t1 + a\t1 + a**3 + (a + a**2 + a**3)*a]\n",
       "  [1\ta**3\t1 + a + a**2 + a**3\t1 + a + a**2 + a**3\t1 + a\t1 + a**2\t1 + a + a**2 + a**3\t1 + a**2\t1 + a\t1\t1\t1 + a\ta**3\t1 + a**2\ta**3\t1 + a + (1 + a + a**3)*a]\n",
       "  [1\t1 + a**3\ta**3\ta + a**2 + a**3\t1 + a + a**2 + a**3\t1 + a + a**2\ta + a**2\t1 + a\ta\ta + a**3\t1 + a + a**3\t1 + a**2 + a**3\ta**2 + a**3\ta**2\t1 + a**2\t1 + a**2 + (1 + a**2)*a]\n",
       "  [1\t1 + a + a**3\t1\ta + a**3\t1\t1 + a + a**3\t1 + a + a**3\t1\t1 + a + a**3\t1 + a + a**3\ta + a**3\ta + a**3\ta + a**3\ta + a**3\t1\ta + a**2 + a]\n",
       "  [1\t1 + a + a**2 + a**3\t1 + a\t1 + a\t1 + a**2\ta**3\t1 + a\ta**3\t1 + a**2\t1\t1\t1 + a**2\t1 + a + a**2 + a**3\ta**3\t1 + a + a**2 + a**3\t1 + a**3 + a**3*a]\n",
       "  [1\t1 + a + a**2\t1 + a**2\ta**2 + a**3\ta**3\ta\t1 + a**3\t1 + a + a**2 + a**3\ta + a**2\ta + a**3\t1 + a + a**3\ta + a**2 + a**3\ta**2\t1 + a**2 + a**3\t1 + a\t1 + a + a**2 + a**2*a]\n",
       "  [1\ta + a**2 + a**3\t1 + a + a**2 + a**3\ta\t1 + a\ta**2 + a**3\t1 + a**2 + a**3\t1 + a**2\ta**2\t1 + a + a**3\ta + a**3\t1 + a + a**2\ta + a**2\t1 + a**3\ta**3\t1 + a + a**2 + a**3 + (1 + a**2 + a**3)*a]],\n",
       " \n",
       " [[1\ta\t1 + a\ta**2\t1 + a**2\ta + a**2\t1 + a + a**2\ta**3\t1 + a**3\ta + a**3\t1 + a + a**3\ta**2 + a**3\t1 + a**2 + a**3\ta + a**2 + a**3\t1 + a + a**2 + a**3\t0]\n",
       "  [0\t0\t0\t0\t0\t0\t0\t0\t0\t0\t0\t0\t0\t0\t0\t1 + a**2 + a**3]\n",
       "  [1\ta**2\t1 + a**2\t1 + a**3\ta**3\t1 + a**2 + a**3\ta**2 + a**3\t1 + a + a**2 + a**3\ta + a**2 + a**3\t1 + a + a**3\ta + a**3\ta + a**2\t1 + a + a**2\ta\t1 + a\t1 + a**3]\n",
       "  [1\ta**3\t1 + a + a**2 + a**3\t1 + a + a**2 + a**3\t1 + a\t1 + a**2\t1 + a + a**2 + a**3\t1 + a**2\t1 + a\t1\t1\t1 + a\ta**3\t1 + a**2\ta**3\t1 + a]\n",
       "  [1\t1 + a**3\ta**3\ta + a**2 + a**3\t1 + a + a**2 + a**3\t1 + a + a**2\ta + a**2\t1 + a\ta\ta + a**3\t1 + a + a**3\t1 + a**2 + a**3\ta**2 + a**3\ta**2\t1 + a**2\t1 + a**2]\n",
       "  [1\t1 + a + a**3\t1\ta + a**3\t1\t1 + a + a**3\t1 + a + a**3\t1\t1 + a + a**3\t1 + a + a**3\ta + a**3\ta + a**3\ta + a**3\ta + a**3\t1\ta + a**2]\n",
       "  [1\t1 + a + a**2 + a**3\t1 + a\t1 + a\t1 + a**2\ta**3\t1 + a\ta**3\t1 + a**2\t1\t1\t1 + a**2\t1 + a + a**2 + a**3\ta**3\t1 + a + a**2 + a**3\t1 + a**3]\n",
       "  [1\t1 + a + a**2\t1 + a**2\ta**2 + a**3\ta**3\ta\t1 + a**3\t1 + a + a**2 + a**3\ta + a**2\ta + a**3\t1 + a + a**3\ta + a**2 + a**3\ta**2\t1 + a**2 + a**3\t1 + a\t1 + a + a**2]\n",
       "  [1\ta + a**2 + a**3\t1 + a + a**2 + a**3\ta\t1 + a\ta**2 + a**3\t1 + a**2 + a**3\t1 + a**2\ta**2\t1 + a + a**3\ta + a**3\t1 + a + a**2\ta + a**2\t1 + a**3\ta**3\t1 + a + a**2 + a**3]])"
      ]
     },
     "execution_count": 135,
     "metadata": {},
     "output_type": "execute_result"
    }
   ],
   "source": [
    "og_H = H_(C)\n",
    "H = prune(blow(H_(C),F))\n",
    "if G_(C)!= None:\n",
    "    G = G_(C)\n",
    "else: \n",
    "    G = left_kernel(transpose(H))\n",
    "og_H, H"
   ]
  },
  {
   "cell_type": "code",
   "execution_count": 150,
   "metadata": {},
   "outputs": [
    {
     "data": {
      "text/plain": [
       "(\n",
       " [[1\ta\t1 + a\ta**2\t1 + a**2\ta + a**2\t1 + a + a**2\ta**3\t1 + a**3\ta + a**3\t1 + a + a**3\ta**2 + a**3\t1 + a**2 + a**3\ta + a**2 + a**3\t1 + a + a**2 + a**3\t0]\n",
       "  [0\t0\t0\t0\t0\t0\t0\t0\t0\t0\t0\t0\t0\t0\t0\t1 + a**2 + a**3]\n",
       "  [1\ta**2\t1 + a**2\t1 + a**3\ta**3\t1 + a**2 + a**3\ta**2 + a**3\t1 + a + a**2 + a**3\ta + a**2 + a**3\t1 + a + a**3\ta + a**3\ta + a**2\t1 + a + a**2\ta\t1 + a\t1 + a**3]\n",
       "  [1\ta**3\t1 + a + a**2 + a**3\t1 + a + a**2 + a**3\t1 + a\t1 + a**2\t1 + a + a**2 + a**3\t1 + a**2\t1 + a\t1\t1\t1 + a\ta**3\t1 + a**2\ta**3\t1 + a]\n",
       "  [1\t1 + a**3\ta**3\ta + a**2 + a**3\t1 + a + a**2 + a**3\t1 + a + a**2\ta + a**2\t1 + a\ta\ta + a**3\t1 + a + a**3\t1 + a**2 + a**3\ta**2 + a**3\ta**2\t1 + a**2\t1 + a**2]\n",
       "  [1\t1 + a + a**3\t1\ta + a**3\t1\t1 + a + a**3\t1 + a + a**3\t1\t1 + a + a**3\t1 + a + a**3\ta + a**3\ta + a**3\ta + a**3\ta + a**3\t1\ta + a**2]\n",
       "  [1\t1 + a + a**2 + a**3\t1 + a\t1 + a\t1 + a**2\ta**3\t1 + a\ta**3\t1 + a**2\t1\t1\t1 + a**2\t1 + a + a**2 + a**3\ta**3\t1 + a + a**2 + a**3\t1 + a**3]\n",
       "  [1\t1 + a + a**2\t1 + a**2\ta**2 + a**3\ta**3\ta\t1 + a**3\t1 + a + a**2 + a**3\ta + a**2\ta + a**3\t1 + a + a**3\ta + a**2 + a**3\ta**2\t1 + a**2 + a**3\t1 + a\t1 + a + a**2]\n",
       "  [1\ta + a**2 + a**3\t1 + a + a**2 + a**3\ta\t1 + a\ta**2 + a**3\t1 + a**2 + a**3\t1 + a**2\ta**2\t1 + a + a**3\ta + a**3\t1 + a + a**2\ta + a**2\t1 + a**3\ta**3\t1 + a + a**2 + a**3]],\n",
       " [3, 4, 7, 8, 11, 12, 14])"
      ]
     },
     "execution_count": 150,
     "metadata": {},
     "output_type": "execute_result"
    }
   ],
   "source": [
    "num_of_erasures = 7\n",
    "e = rd_error_vector(n, num_of_erasures, F_base)\n",
    "error_locations = [i for i,x in enumerate(e) if x == 1]\n",
    "no_error_locations = [i for i,x in enumerate(e) if x == 0]\n",
    "\n",
    "H, error_locations"
   ]
  },
  {
   "cell_type": "code",
   "execution_count": 151,
   "metadata": {},
   "outputs": [],
   "source": [
    "bad_H = submatrix(H, error_locations)\n"
   ]
  },
  {
   "cell_type": "code",
   "execution_count": 152,
   "metadata": {},
   "outputs": [],
   "source": [
    "good_H = submatrix(H, no_error_locations)\n",
    "x = rd_linear_combination(G,F)\n",
    "\n",
    "x_good = x[no_error_locations]\n",
    "syn = good_H * x_good"
   ]
  },
  {
   "cell_type": "code",
   "execution_count": 155,
   "metadata": {},
   "outputs": [
    {
     "name": "stdout",
     "output_type": "stream",
     "text": [
      "[a**2 + a**3, 1, a**2, a + a**2, a + a**2, a + a**2 + a**3, a**3]\n",
      "[a**2 + a**3,\n",
      " 1,\n",
      " a**2,\n",
      " a + a**2,\n",
      " a + a**2,\n",
      " a + a**2 + a**3,\n",
      " a**3]\n"
     ]
    }
   ],
   "source": [
    "missing_bits = solve_linear_system(bad_H, -syn)\n",
    "print(x[error_locations])\n",
    "print(missing_bits)"
   ]
  },
  {
   "cell_type": "code",
   "execution_count": 97,
   "metadata": {},
   "outputs": [
    {
     "name": "stdout",
     "output_type": "stream",
     "text": [
      "1\n",
      "[4]\n",
      "1\n",
      "[3]\n",
      "1\n",
      "[2]\n",
      "1\n",
      "[1]\n",
      "1\n",
      "[0]\n",
      "a**2 + a**3\n",
      "[4]\n",
      "a**2 + a**3\n",
      "[3]\n",
      "a**2 + a**3\n",
      "[2]\n",
      "a**2 + a**3\n",
      "[1]\n",
      "a**2 + a**3\n",
      "[0]\n",
      "a**3\n",
      "[4]\n",
      "a**3\n",
      "[3]\n",
      "a**3\n",
      "[2]\n",
      "a**3\n",
      "[1]\n",
      "a**3\n",
      "[0]\n",
      "a + a**2\n",
      "[4]\n",
      "a + a**2\n",
      "[3]\n",
      "a + a**2\n",
      "[2]\n",
      "a + a**2\n",
      "[1]\n",
      "a + a**2\n",
      "[0]\n",
      "1 + a + a**2 + a**3\n",
      "[4]\n",
      "1 + a + a**2 + a**3\n",
      "[3]\n",
      "1 + a + a**2 + a**3\n",
      "[2]\n",
      "1 + a + a**2 + a**3\n",
      "[1]\n",
      "1 + a + a**2 + a**3\n",
      "[0]\n",
      "a**2\n",
      "[4]\n",
      "a**2\n",
      "[3]\n",
      "a**2\n",
      "[2]\n",
      "a**2\n",
      "[1]\n",
      "a**2\n",
      "[0]\n",
      "a + a**2 + a**3\n",
      "[4]\n",
      "a + a**2 + a**3\n",
      "[3]\n",
      "a + a**2 + a**3\n",
      "[2]\n",
      "a + a**2 + a**3\n",
      "[1]\n",
      "a + a**2 + a**3\n",
      "[0]\n",
      "1 + a\n",
      "[4]\n",
      "1 + a\n",
      "[3]\n",
      "1 + a\n",
      "[2]\n",
      "1 + a\n",
      "[1]\n",
      "1 + a\n",
      "[0]\n",
      "1 + a**2 + a**3\n",
      "[4]\n",
      "1 + a**2 + a**3\n",
      "[3]\n",
      "1 + a**2 + a**3\n",
      "[2]\n",
      "1 + a**2 + a**3\n",
      "[1]\n",
      "1 + a**2 + a**3\n",
      "[0]\n",
      "1 + a + a**3\n",
      "[4]\n",
      "1 + a + a**3\n",
      "[3]\n",
      "1 + a + a**3\n",
      "[2]\n",
      "1 + a + a**3\n",
      "[1]\n",
      "1 + a + a**3\n",
      "[0]\n",
      "a + a**3\n",
      "[4]\n",
      "a + a**3\n",
      "[3]\n",
      "a + a**3\n",
      "[2]\n",
      "a + a**3\n",
      "[1]\n",
      "a + a**3\n",
      "[0]\n",
      "a\n",
      "[4]\n",
      "a\n",
      "[3]\n",
      "a\n",
      "[2]\n",
      "a\n",
      "[1]\n",
      "a\n",
      "[0]\n",
      "1 + a**3\n",
      "[4]\n",
      "1 + a**3\n",
      "[3]\n",
      "1 + a**3\n",
      "[2]\n",
      "1 + a**3\n",
      "[1]\n",
      "1 + a**3\n",
      "[0]\n",
      "1 + a + a**2\n",
      "[4]\n",
      "1 + a + a**2\n",
      "[3]\n",
      "1 + a + a**2\n",
      "[2]\n",
      "1 + a + a**2\n",
      "[1]\n",
      "1 + a + a**2\n",
      "[0]\n",
      "1 + a**2\n",
      "[4]\n",
      "1 + a**2\n",
      "[3]\n",
      "1 + a**2\n",
      "[2]\n",
      "1 + a**2\n",
      "[1]\n",
      "1 + a**2\n",
      "[0]\n",
      "1 + a**3 + (1 + a**2 + a**3)*a\n",
      "[4]\n",
      "1 + a**3 + (1 + a**2 + a**3)*a\n",
      "[3]\n",
      "1 + a**3 + (1 + a**2 + a**3)*a\n",
      "[2]\n",
      "1 + a**3 + (1 + a**2 + a**3)*a\n",
      "[1]\n",
      "1 + a**3 + (1 + a**2 + a**3)*a\n",
      "[0]\n",
      "1\n",
      "[2]\n",
      "1\n",
      "[1]\n",
      "1\n",
      "[0]\n",
      "1\n",
      "[2]\n",
      "1\n",
      "[0]\n",
      "a**3\n",
      "[2]\n",
      "a**3\n",
      "[1]\n",
      "a**3\n",
      "[0]\n",
      "a**3\n",
      "[2]\n",
      "a**3\n",
      "[0]\n",
      "1 + a\n",
      "[2]\n",
      "1 + a\n",
      "[1]\n",
      "1 + a\n",
      "[0]\n",
      "1 + a\n",
      "[2]\n",
      "1 + a\n",
      "[0]\n",
      "1 + a**2\n",
      "[2]\n",
      "1 + a**2\n",
      "[1]\n",
      "1 + a**2\n",
      "[0]\n",
      "1 + a**2\n",
      "[2]\n",
      "1 + a**2\n",
      "[0]\n",
      "err = [1 + a + a**2, 1 + a + a**2 + a**3, 1 + a + a**2 + a**3, 1 + a + a**2] \n",
      "\n",
      "AD: Successful decoding with error table:\n",
      " [0, 2, 7, 14] \n",
      " [1 + a + a**2, 1 + a + a**2 + a**3, 1 + a + a**2 + a**3, 1 + a + a**2]\n",
      "AD_checker: trial successful \n",
      "\n"
     ]
    },
    {
     "data": {
      "text/plain": [
       "(True,\n",
       " \n",
       " [[1 + a**2 + a**3\ta + a**2 + a**3\t1 + a + a**2\t1 + a**2\ta + a**3\ta**3\ta**3\ta + a**3\t1 + a**2 + a**3\ta**2 + a**3\ta**2\t1 + a**2 + a**3\t1 + a\t1 + a\ta\t0]\n",
       "  [1 + a + a**2\t0\t1 + a + a**2 + a**3\t0\t0\t0\t0\t1 + a + a**2 + a**3\t0\t0\t0\t0\t0\t0\t1 + a + a**2\t0]\n",
       "  [a + a**3\ta + a**2 + a**3\ta**3\t1 + a**2\ta + a**3\ta**3\ta**3\t1 + a**2\t1 + a**2 + a**3\ta**2 + a**3\ta**2\t1 + a**2 + a**3\t1 + a\t1 + a\t1 + a**2\t0]])"
      ]
     },
     "execution_count": 97,
     "metadata": {},
     "output_type": "execute_result"
    }
   ],
   "source": [
    "AD_checker1(C,4, F)\n"
   ]
  }
 ],
 "metadata": {
  "kernelspec": {
   "display_name": "Python 3",
   "language": "python",
   "name": "python3"
  },
  "language_info": {
   "codemirror_mode": {
    "name": "ipython",
    "version": 3
   },
   "file_extension": ".py",
   "mimetype": "text/x-python",
   "name": "python",
   "nbconvert_exporter": "python",
   "pygments_lexer": "ipython3",
   "version": "3.8.10"
  }
 },
 "nbformat": 4,
 "nbformat_minor": 2
}
