{
 "cells": [
  {
   "cell_type": "code",
   "execution_count": 8,
   "id": "3c3694ce-11ba-44ba-864a-2e7083d2f3e8",
   "metadata": {},
   "outputs": [],
   "source": [
    "from PyM import *\n",
    "import numpy as np"
   ]
  },
  {
   "cell_type": "code",
   "execution_count": 9,
   "id": "7703db10-96af-42af-af4c-ceeb33864f1f",
   "metadata": {},
   "outputs": [],
   "source": [
    "def primitive_root(K):\n",
    "    q = cardinal(K); n = q-1\n",
    "    for j in range(2,q):\n",
    "        if order(element(j,K))==n:\n",
    "            return element(j,K)\n",
    "    return \"primitive_root error: root not found\"\n",
    "    \n",
    "\n",
    "def RSID(a,k,y):\n",
    "    n = len(a); t = (n-k)//2\n",
    "    P = vandermonde(a,n-t); Q = vandermonde(a,n-k-t+1)\n",
    "    for j in range(n):\n",
    "        Q[:,j] = y[j] * Q[:,j] \n",
    "    PQ = left_kernel(stack(P,Q))[0]\n",
    "    P = PQ[:(n-t)]; Q = PQ[(n-t):]\n",
    "    if is_zero(Q): return \"RSID Error: Q = 0\"\n",
    "    [_,T] = polynomial_ring(K_(a),'T')\n",
    "    P = polynomial(P,T); Q = polynomial(Q,T)\n",
    "    if not P % Q: return \"RSID Error: Q does not divide P\"\n",
    "    f = -P//Q\n",
    "    return vector([evaluate(f,t) for t in a])\n"
   ]
  },
  {
   "cell_type": "code",
   "execution_count": 10,
   "id": "c92cba5d-4f60-43ac-a01b-ee5a6d7b633c",
   "metadata": {},
   "outputs": [],
   "source": [
    "p = 17; K = Zn(p)"
   ]
  },
  {
   "cell_type": "code",
   "execution_count": 11,
   "id": "f9879edf-ed24-4a2b-8e31-c75c45b80928",
   "metadata": {},
   "outputs": [],
   "source": [
    "a = [element(i, K) for i in range(1,p)]"
   ]
  },
  {
   "cell_type": "code",
   "execution_count": 13,
   "id": "f7165643-7715-4af5-9716-775194dfbe59",
   "metadata": {},
   "outputs": [
    {
     "data": {
      "text/plain": [
       "[1, 2, 3, 4, 5, 6, 7, 8, 9, 10, 11, 12, 13, 14, 15, 16]"
      ]
     },
     "execution_count": 13,
     "metadata": {},
     "output_type": "execute_result"
    }
   ],
   "source": [
    "a"
   ]
  },
  {
   "cell_type": "code",
   "execution_count": 14,
   "id": "4b117252-f75c-44dd-9307-4d4c3799ab0d",
   "metadata": {},
   "outputs": [],
   "source": [
    "h = [element(j,K) for j in range(1,1+len(a))]\n"
   ]
  },
  {
   "cell_type": "code",
   "execution_count": 15,
   "id": "18d89c77-09c5-4ca2-9d47-06e78493b1c2",
   "metadata": {},
   "outputs": [],
   "source": [
    "C = alternant_code(h,a,3)"
   ]
  },
  {
   "cell_type": "code",
   "execution_count": 16,
   "id": "8337dde4-236c-44be-8d57-e391bed9fedc",
   "metadata": {},
   "outputs": [
    {
     "name": "stdout",
     "output_type": "stream",
     "text": [
      "[[1\t2\t3\t4\t5\t6\t7\t8\t9\t10\t11\t12\t13\t14\t15\t16]\n",
      " [1\t4\t9\t16\t8\t2\t15\t13\t13\t15\t2\t8\t16\t9\t4\t1]\n",
      " [1\t8\t10\t13\t6\t12\t3\t2\t15\t14\t5\t11\t4\t7\t9\t16]] \n",
      "\n"
     ]
    }
   ],
   "source": [
    "H = H_(C) ; show(H_(C))"
   ]
  },
  {
   "cell_type": "code",
   "execution_count": 17,
   "id": "6e5fefbc-b94d-49f6-9ab6-71bf0d22db78",
   "metadata": {},
   "outputs": [],
   "source": [
    "G = left_kernel(transpose(H_(C)))"
   ]
  },
  {
   "cell_type": "code",
   "execution_count": 18,
   "id": "2d8c51bb-421b-49d8-a662-63efdb3dcb0d",
   "metadata": {},
   "outputs": [
    {
     "data": {
      "text/plain": [
       "\n",
       "[[13\t6\t13\t1\t0\t0\t0\t0\t0\t0\t0\t0\t0\t0\t0\t0]\n",
       " [0\t6\t5\t9\t1\t0\t0\t0\t0\t0\t0\t0\t0\t0\t0\t0]\n",
       " [0\t0\t15\t13\t10\t1\t0\t0\t0\t0\t0\t0\t0\t0\t0\t0]\n",
       " [0\t0\t0\t11\t11\t5\t1\t0\t0\t0\t0\t0\t0\t0\t0\t0]\n",
       " [0\t0\t0\t0\t12\t4\t16\t1\t0\t0\t0\t0\t0\t0\t0\t0]\n",
       " [0\t0\t0\t0\t0\t7\t16\t3\t1\t0\t0\t0\t0\t0\t0\t0]\n",
       " [0\t0\t0\t0\t0\t0\t1\t8\t8\t1\t0\t0\t0\t0\t0\t0]\n",
       " [0\t0\t0\t0\t0\t0\t0\t5\t15\t12\t1\t0\t0\t0\t0\t0]\n",
       " [0\t0\t0\t0\t0\t0\t0\t0\t10\t7\t6\t1\t0\t0\t0\t0]\n",
       " [0\t0\t0\t0\t0\t0\t0\t0\t0\t14\t2\t1\t1\t0\t0\t0]\n",
       " [0\t0\t0\t0\t0\t0\t0\t0\t0\t0\t8\t12\t2\t1\t0\t0]\n",
       " [0\t0\t0\t0\t0\t0\t0\t0\t0\t0\t0\t3\t10\t15\t1\t0]\n",
       " [0\t0\t0\t0\t0\t0\t0\t0\t0\t0\t0\t0\t4\t1\t7\t1]]"
      ]
     },
     "execution_count": 18,
     "metadata": {},
     "output_type": "execute_result"
    }
   ],
   "source": [
    "G"
   ]
  },
  {
   "cell_type": "code",
   "execution_count": 19,
   "id": "07af2f46-2d86-4a7a-b563-8dc0c521265c",
   "metadata": {},
   "outputs": [],
   "source": [
    "x = [1] * 13"
   ]
  },
  {
   "cell_type": "code",
   "execution_count": 20,
   "id": "1a947601-47cb-4eef-b52f-5884ca37736b",
   "metadata": {},
   "outputs": [
    {
     "name": "stdout",
     "output_type": "stream",
     "text": [
      "[[0\t0\t0]\n",
      " [0\t0\t0]\n",
      " [0\t0\t0]\n",
      " [0\t0\t0]\n",
      " [0\t0\t0]\n",
      " [0\t0\t0]\n",
      " [0\t0\t0]\n",
      " [0\t0\t0]\n",
      " [0\t0\t0]\n",
      " [0\t0\t0]\n",
      " [0\t0\t0]\n",
      " [0\t0\t0]\n",
      " [0\t0\t0]] \n",
      "\n"
     ]
    }
   ],
   "source": [
    "show( G * transpose(H))\n"
   ]
  },
  {
   "cell_type": "code",
   "execution_count": 45,
   "id": "0987eb78-7ede-4356-a728-fe815c6e1257",
   "metadata": {},
   "outputs": [],
   "source": [
    "def AD_checker1(C,t,K=''):\n",
    "    if K=='': K = K_(C)\n",
    "    H = prune(blow(H_(C),K))\n",
    "    if G_(C)!= None:\n",
    "        G = G_(C)\n",
    "    else: \n",
    "        G = left_kernel(transpose(H))\n",
    "    n = ncols(H)\n",
    "    x = rd_linear_combination(G,K)\n",
    "    e = rd_error_pattern(n,t,K)\n",
    "\n",
    "    x1 = alternant_decoder(x+e,C)\n",
    "    if isinstance(x1,Vector_type):\n",
    "        if x1==x:\n",
    "            show('AD_checker: trial successful')\n",
    "            return matrix([x,e,x+e])\n",
    "        else:\n",
    "            show('AD_checker: undectetable error')\n",
    "            return matrix(x,e,x+e,x1)\n",
    "    else:\n",
    "        show('AD_checker: decoder error')\n",
    "        return matrix([x,e])"
   ]
  },
  {
   "cell_type": "code",
   "execution_count": 46,
   "id": "d4375a51-f73b-4db5-84bb-04b338e3534b",
   "metadata": {},
   "outputs": [
    {
     "name": "stdout",
     "output_type": "stream",
     "text": [
      "[16, 10, 11, 12, 6, 13, 3, 4, 13, 13, 12, 1, 7, 3, 16, 5]\n",
      "[0, 0, 0, 0, 0, 0, 0, 0, 0, 0, 0, 0, 0, 9, 0, 0]\n",
      "[16, 10, 11, 12, 6, 13, 3, 4, 13, 13, 12, 1, 7, 12, 16, 5]\n",
      "1\n",
      "[1]\n",
      "1\n",
      "[0]\n",
      "9\n",
      "[1]\n",
      "9\n",
      "[0]\n",
      "6\n",
      "[1]\n",
      "6\n",
      "[0]\n",
      "13\n",
      "[1]\n",
      "13\n",
      "[0]\n",
      "7\n",
      "[1]\n",
      "7\n",
      "[0]\n",
      "3\n",
      "[1]\n",
      "3\n",
      "[0]\n",
      "5\n",
      "[1]\n",
      "5\n",
      "[0]\n",
      "15\n",
      "[1]\n",
      "15\n",
      "[0]\n",
      "2\n",
      "[1]\n",
      "2\n",
      "[0]\n",
      "12\n",
      "[1]\n",
      "12\n",
      "[0]\n",
      "14\n",
      "[1]\n",
      "14\n",
      "[0]\n",
      "10\n",
      "[1]\n",
      "10\n",
      "[0]\n",
      "4\n",
      "[1]\n",
      "4\n",
      "[0]\n",
      "11\n",
      "[1]\n",
      "11\n",
      "[0]\n",
      "8\n",
      "[1]\n",
      "8\n",
      "[0]\n",
      "16\n",
      "[1]\n",
      "16\n",
      "[0]\n",
      "11\n",
      "[0]\n",
      "11\n",
      "[0]\n",
      "err = [9] \n",
      "\n",
      "AD: Successful decoding with error table:\n",
      " [13] \n",
      " [9]\n",
      "[16, 10, 11, 12, 6, 13, 3, 4, 13, 13, 12, 1, 7, 3, 16, 5]\n",
      "AD_checker: trial successful \n",
      "\n",
      "[[16\t10\t11\t12\t6\t13\t3\t4\t13\t13\t12\t1\t7\t3\t16\t5]\n",
      " [0\t0\t0\t0\t0\t0\t0\t0\t0\t0\t0\t0\t0\t9\t0\t0]\n",
      " [16\t10\t11\t12\t6\t13\t3\t4\t13\t13\t12\t1\t7\t12\t16\t5]] \n",
      "\n"
     ]
    }
   ],
   "source": [
    "show(AD_checker1(C,1))\n"
   ]
  }
 ],
 "metadata": {
  "kernelspec": {
   "display_name": "Python 3 (ipykernel)",
   "language": "python",
   "name": "python3"
  },
  "language_info": {
   "codemirror_mode": {
    "name": "ipython",
    "version": 3
   },
   "file_extension": ".py",
   "mimetype": "text/x-python",
   "name": "python",
   "nbconvert_exporter": "python",
   "pygments_lexer": "ipython3",
   "version": "3.8.10"
  }
 },
 "nbformat": 4,
 "nbformat_minor": 5
}
